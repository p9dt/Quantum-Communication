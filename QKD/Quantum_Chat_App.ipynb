{
  "cells": [
    {
      "cell_type": "code",
      "metadata": {
        "colab": {
          "base_uri": "https://localhost:8080/"
        },
        "id": "GLaTunZN-tSZ",
        "outputId": "37edacb4-da65-46a9-a92a-861ecc91a0fc"
      },
      "source": [
        "# Install required packages\n",
        "!pip install streamlit pyngrok -q\n",
        "\n",
        "# Write the Streamlit app to a .py file\n",
        "app_code = \"\"\"\n",
        "import streamlit as st\n",
        "import random\n",
        "\n",
        "st.set_page_config(page_title=\"Quantum Chat App\", page_icon=\"💬\")\n",
        "\n",
        "st.title(\"💬 Quantum Chat Simulation\")\n",
        "st.markdown(\"Secure communication between Alice 🧕 and Bob 👨‍💻 using quantum principles.\")\n",
        "\n",
        "st.sidebar.title(\"🔧 Simulation Settings\")\n",
        "key_length = st.sidebar.slider(\"Key Length\", 8, 128, 32)\n",
        "\n",
        "# Generate random quantum key\n",
        "def generate_key(length):\n",
        "    return [random.randint(0, 1) for _ in range(length)]\n",
        "\n",
        "alice_key = generate_key(key_length)\n",
        "bob_key = alice_key.copy()\n",
        "\n",
        "# Introduce optional eavesdropping\n",
        "eavesdrop = st.sidebar.checkbox(\"Simulate Eavesdropper (Eve) 🕵️\")\n",
        "if eavesdrop:\n",
        "    for i in range(len(bob_key)):\n",
        "        if random.random() < 0.25:\n",
        "            bob_key[i] = 1 - bob_key[i]  # Flip bit\n",
        "\n",
        "# Shared secret message\n",
        "message = st.text_input(\"💬 Enter your message (Embassy A ➡️ Embassy B)\", \"Quantum encrypted ops at dawn.\")\n",
        "\n",
        "# XOR Encrypt\n",
        "def xor_encrypt(msg, key):\n",
        "    binary = ''.join(format(ord(c), '08b') for c in msg)\n",
        "    enc = [int(b)^key[i%len(key)] for i, b in enumerate(binary)]\n",
        "    return enc\n",
        "\n",
        "def xor_decrypt(enc_bits, key):\n",
        "    decrypted = [str(b^key[i%len(key)]) for i, b in enumerate(enc_bits)]\n",
        "    chars = [chr(int(''.join(decrypted[i:i+8]), 2)) for i in range(0, len(decrypted), 8)]\n",
        "    return ''.join(chars)\n",
        "\n",
        "encrypted_bits = xor_encrypt(message, alice_key)\n",
        "decrypted_message = xor_decrypt(encrypted_bits, bob_key)\n",
        "\n",
        "# Display info\n",
        "st.subheader(\"🔐 Quantum Key\")\n",
        "st.text(f\"Alice's Key: {''.join(map(str, alice_key))}\")\n",
        "st.text(f\"Bob's Key:   {''.join(map(str, bob_key))}\")\n",
        "\n",
        "error_count = sum(a != b for a, b in zip(alice_key, bob_key))\n",
        "error_rate = (error_count / len(alice_key)) * 100\n",
        "\n",
        "st.markdown(f\"**Error Rate:** `{error_rate:.2f}%`\")\n",
        "if error_rate > 25:\n",
        "    st.error(\"🚨 High error rate! Possible eavesdropping detected.\")\n",
        "else:\n",
        "    st.success(\"✅ Channel is likely secure.\")\n",
        "\n",
        "st.subheader(\"📡 Transmission\")\n",
        "st.code(f\"Encrypted Bits: {''.join(map(str, encrypted_bits))}\")\n",
        "st.markdown(f\"**📥 Decrypted Message at Bob's Side:** `{decrypted_message}`\")\n",
        "\"\"\"\n",
        "\n",
        "with open(\"quantum_chat_app.py\", \"w\") as f:\n",
        "    f.write(app_code)\n",
        "\n",
        "# Launch the app using ngrok\n",
        "from pyngrok import ngrok\n",
        "import threading\n",
        "\n",
        "def run_app():\n",
        "    !streamlit run quantum_chat_app.py --server.port 8501\n",
        "\n",
        "threading.Thread(target=run_app).start()\n",
        "!ngrok config add-authtoken 2uBedLAyaJGvIop4Yq5AlZTlVke_6q5RsE8ADTdL2yX62vMs6\n",
        "\n",
        "public_url = ngrok.connect(8501)\n",
        "print(f\"🔗 Your app is live at: {public_url}\")\n"
      ],
      "execution_count": null,
      "outputs": [
        {
          "output_type": "stream",
          "name": "stdout",
          "text": [
            "Authtoken saved to configuration file: /root/.config/ngrok/ngrok.yml\n",
            "🔗 Your app is live at: NgrokTunnel: \"https://77c1-35-224-134-238.ngrok-free.app\" -> \"http://localhost:8501\"\n"
          ]
        }
      ]
    },
    {
      "cell_type": "code",
      "source": [
        "# Save the Streamlit app as a .py file\n",
        "from pathlib import Path\n",
        "\n",
        "app_code = \"\"\"\n",
        "import streamlit as st\n",
        "import numpy as np\n",
        "import random\n",
        "import matplotlib.pyplot as plt\n",
        "\n",
        "st.set_page_config(page_title=\"Quantum Chat - BB84\", layout=\"centered\")\n",
        "\n",
        "st.title(\"📡 Quantum Chat App - BB84 QKD Protocol\")\n",
        "st.markdown(\"Secure communication using quantum key distribution (BB84 Protocol)\")\n",
        "\n",
        "# Settings\n",
        "num_bits = st.slider(\"Select number of qubits:\", 10, 100, 30)\n",
        "secret_message = st.text_input(\"💬 Enter your secret message (from Alice to Bob)\", \"Meet at 9 PM\")\n",
        "simulate_eve = st.checkbox(\"🕵️ Simulate Eavesdropper (Eve)\")\n",
        "\n",
        "# 1. Alice generates random bits and bases\n",
        "alice_bits = np.random.randint(2, size=num_bits)\n",
        "alice_bases = np.random.choice([\"Z\", \"X\"], size=num_bits)\n",
        "\n",
        "# 2. Eve intercepts and measures qubits\n",
        "if simulate_eve:\n",
        "    eve_bases = np.random.choice([\"Z\", \"X\"], size=num_bits)\n",
        "\n",
        "    # Eve measures each bit\n",
        "    def eve_measure(bit, basis_sender, basis_eve):\n",
        "        if basis_sender == basis_eve:\n",
        "            return bit\n",
        "        else:\n",
        "            return np.random.randint(2)\n",
        "\n",
        "    eve_results = np.array([eve_measure(alice_bits[i], alice_bases[i], eve_bases[i]) for i in range(num_bits)])\n",
        "    # Eve sends new bits to Bob\n",
        "    transmitted_bits = eve_results\n",
        "    transmitted_bases = eve_bases\n",
        "else:\n",
        "    # No eavesdropper — Alice's original bits are transmitted\n",
        "    transmitted_bits = alice_bits\n",
        "    transmitted_bases = alice_bases\n",
        "\n",
        "# 3. Bob chooses random bases\n",
        "bob_bases = np.random.choice([\"Z\", \"X\"], size=num_bits)\n",
        "\n",
        "# 4. Bob measures based on received qubits and his basis\n",
        "def bob_measure(bit, basis_sender, basis_bob):\n",
        "    if basis_sender == basis_bob:\n",
        "        return bit\n",
        "    else:\n",
        "        return np.random.randint(2)\n",
        "\n",
        "bob_results = np.array([bob_measure(transmitted_bits[i], transmitted_bases[i], bob_bases[i]) for i in range(num_bits)])\n",
        "\n",
        "# 5. Shared key: only bits where Alice and Bob bases match\n",
        "matching_indices = np.where(alice_bases == bob_bases)[0]\n",
        "shared_key = alice_bits[matching_indices]\n",
        "bob_key = bob_results[matching_indices]\n",
        "\n",
        "# 6. Calculate error rate\n",
        "errors = np.sum(shared_key != bob_key)\n",
        "error_rate = (errors / len(shared_key)) * 100 if len(shared_key) > 0 else 0\n",
        "eavesdrop_detected = error_rate > 25\n",
        "\n",
        "# 7. Encrypt and decrypt the message using XOR\n",
        "def xor_encrypt_decrypt(message, key):\n",
        "    bin_msg = ''.join(format(ord(c), '08b') for c in message)\n",
        "    key_repeated = np.resize(key, len(bin_msg))\n",
        "    encrypted = [int(b) ^ int(k) for b, k in zip(bin_msg, key_repeated)]\n",
        "    return encrypted\n",
        "\n",
        "def bits_to_text(bits):\n",
        "    chars = [chr(int(''.join(map(str, bits[i:i+8])), 2)) for i in range(0, len(bits), 8)]\n",
        "    return ''.join(chars)\n",
        "\n",
        "# Encrypt with Bob's key\n",
        "encrypted_bits = xor_encrypt_decrypt(secret_message, bob_key)\n",
        "decrypted_bits = xor_encrypt_decrypt(bits_to_text(encrypted_bits), bob_key)\n",
        "decrypted_message = bits_to_text(decrypted_bits)\n",
        "\n",
        "# Display results\n",
        "st.subheader(\"🔐 Communication Summary\")\n",
        "st.markdown(f\"**Alice's Original Message:** `{secret_message}`\")\n",
        "st.markdown(f\"**Encrypted Binary:** `{''.join(map(str, encrypted_bits))}`\")\n",
        "st.markdown(f\"**Bob's Decrypted Message:** `{decrypted_message}`\")\n",
        "st.markdown(f\"**Error Rate:** `{error_rate:.2f}%`\")\n",
        "\n",
        "if eavesdrop_detected:\n",
        "    st.error(\"⚠️ Eavesdropping Detected! Abort communication.\")\n",
        "else:\n",
        "    st.success(\"✅ Secure Channel Established!\")\n",
        "\n",
        "# Optional: Visualize shared key\n",
        "st.subheader(\"📊 Shared Key Visualization\")\n",
        "fig, ax = plt.subplots()\n",
        "ax.plot(shared_key, 'o-', label=\"Alice's Key\")\n",
        "ax.plot(bob_key, 'x--', label=\"Bob's Key\")\n",
        "ax.set_xlabel(\"Bit Index\")\n",
        "ax.set_ylabel(\"Bit Value\")\n",
        "ax.set_title(\"Key Comparison\")\n",
        "ax.legend()\n",
        "st.pyplot(fig)\n",
        "\n",
        "\"\"\"\n",
        "\n",
        "# Save to file\n",
        "Path(\"quantum_chat_app.py\").write_text(app_code)\n"
      ],
      "metadata": {
        "colab": {
          "base_uri": "https://localhost:8080/"
        },
        "id": "7paHELuPAufZ",
        "outputId": "21e23c42-af8c-4acb-cc02-ee702286ca15"
      },
      "execution_count": null,
      "outputs": [
        {
          "output_type": "execute_result",
          "data": {
            "text/plain": [
              "3551"
            ]
          },
          "metadata": {},
          "execution_count": 8
        }
      ]
    },
    {
      "cell_type": "code",
      "source": [
        "# Start Streamlit app with ngrok\n",
        "from pyngrok import ngrok\n",
        "import threading\n",
        "import time\n",
        "\n",
        "def run():\n",
        "    !streamlit run quantum_chat_app.py\n",
        "\n",
        "# Run app in a separate thread\n",
        "thread = threading.Thread(target=run)\n",
        "thread.start()\n",
        "\n",
        "# Wait for Streamlit to boot up\n",
        "time.sleep(5)\n",
        "!ngrok config add-authtoken 2uBedLAyaJGvIop4Yq5AlZTlVke_6q5RsE8ADTdL2yX62vMs6x\n",
        "# Open the public URL via ngrok\n",
        "public_url = ngrok.connect(8501)\n",
        "print(f\"🌐 Your Quantum Chat App is running at: {public_url}\")\n"
      ],
      "metadata": {
        "colab": {
          "base_uri": "https://localhost:8080/",
          "height": 384
        },
        "id": "JcSJgY9GAv2F",
        "outputId": "c0ed3950-a8c9-40b2-e26b-68f0d6b30a78"
      },
      "execution_count": null,
      "outputs": [
        {
          "output_type": "error",
          "ename": "ModuleNotFoundError",
          "evalue": "No module named 'pyngrok'",
          "traceback": [
            "\u001b[0;31m---------------------------------------------------------------------------\u001b[0m",
            "\u001b[0;31mModuleNotFoundError\u001b[0m                       Traceback (most recent call last)",
            "\u001b[0;32m<ipython-input-1-9e38d4740a5a>\u001b[0m in \u001b[0;36m<cell line: 0>\u001b[0;34m()\u001b[0m\n\u001b[1;32m      1\u001b[0m \u001b[0;31m# Start Streamlit app with ngrok\u001b[0m\u001b[0;34m\u001b[0m\u001b[0;34m\u001b[0m\u001b[0m\n\u001b[0;32m----> 2\u001b[0;31m \u001b[0;32mfrom\u001b[0m \u001b[0mpyngrok\u001b[0m \u001b[0;32mimport\u001b[0m \u001b[0mngrok\u001b[0m\u001b[0;34m\u001b[0m\u001b[0;34m\u001b[0m\u001b[0m\n\u001b[0m\u001b[1;32m      3\u001b[0m \u001b[0;32mimport\u001b[0m \u001b[0mthreading\u001b[0m\u001b[0;34m\u001b[0m\u001b[0;34m\u001b[0m\u001b[0m\n\u001b[1;32m      4\u001b[0m \u001b[0;32mimport\u001b[0m \u001b[0mtime\u001b[0m\u001b[0;34m\u001b[0m\u001b[0;34m\u001b[0m\u001b[0m\n\u001b[1;32m      5\u001b[0m \u001b[0;34m\u001b[0m\u001b[0m\n",
            "\u001b[0;31mModuleNotFoundError\u001b[0m: No module named 'pyngrok'",
            "",
            "\u001b[0;31m---------------------------------------------------------------------------\u001b[0;32m\nNOTE: If your import is failing due to a missing package, you can\nmanually install dependencies using either !pip or !apt.\n\nTo view examples of installing some common dependencies, click the\n\"Open Examples\" button below.\n\u001b[0;31m---------------------------------------------------------------------------\u001b[0m\n"
          ],
          "errorDetails": {
            "actions": [
              {
                "action": "open_url",
                "actionText": "Open Examples",
                "url": "/notebooks/snippets/importing_libraries.ipynb"
              }
            ]
          }
        }
      ]
    }
  ],
  "metadata": {
    "kernelspec": {
      "display_name": "Python 3",
      "language": "python",
      "name": "python3"
    },
    "language_info": {
      "name": "python",
      "version": "3.9"
    },
    "colab": {
      "provenance": []
    }
  },
  "nbformat": 4,
  "nbformat_minor": 0
}